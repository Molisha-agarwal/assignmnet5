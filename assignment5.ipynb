{
  "nbformat": 4,
  "nbformat_minor": 0,
  "metadata": {
    "colab": {
      "provenance": []
    },
    "kernelspec": {
      "name": "python3",
      "display_name": "Python 3"
    },
    "language_info": {
      "name": "python"
    }
  },
  "cells": [
    {
      "cell_type": "markdown",
      "source": [
        "THEORY QUESTIONS\n"
      ],
      "metadata": {
        "id": "jAhw3FWezMqH"
      }
    },
    {
      "cell_type": "markdown",
      "source": [
        "Q-1:F What is the difference between interpreted and compiled languages0"
      ],
      "metadata": {
        "id": "F195qz49zQet"
      }
    },
    {
      "cell_type": "markdown",
      "source": [
        "Interpreted languages (like Python) are executed line-by-line by an interpreter.\n",
        "\n",
        "Compiled languages (like C++) are transformed into machine code before execution, often resulting in faster performance."
      ],
      "metadata": {
        "id": "DJHOV6mhzUSB"
      }
    },
    {
      "cell_type": "markdown",
      "source": [
        "Q-2:What is exception handling in Python?\n",
        "It is a mechanism to handle runtime errors using try, except, finally, and else blocks to prevent crashes."
      ],
      "metadata": {
        "id": "IGR3AN4GzZoK"
      }
    },
    {
      "cell_type": "markdown",
      "source": [
        "Q-3:What is the purpose of the finally block in exception handling?\n",
        "It contains code that will always execute, whether or not an exception occurs, often used for cleanup."
      ],
      "metadata": {
        "id": "BGxv94YKzdp8"
      }
    },
    {
      "cell_type": "markdown",
      "source": [
        "Q-4:What is logging in Python?\n",
        "Logging is a way to track events that happen during program execution using the logging module, useful for debugging and monitoring."
      ],
      "metadata": {
        "id": "RLRCxmGmzijz"
      }
    },
    {
      "cell_type": "markdown",
      "source": [
        "Q-5: What is the significance of the __del__ method in Python?\n",
        "It's a destructor method called when an object is about to be destroyed, used for cleanup tasks like closing files or releasing resources.\n"
      ],
      "metadata": {
        "id": "aVBVueASzmjV"
      }
    },
    {
      "cell_type": "markdown",
      "source": [
        "Q-6:What is the difference between import and from ... import in Python?\n",
        "\n",
        "import module loads the module.\n",
        "\n",
        "from module import name imports specific objects from the module."
      ],
      "metadata": {
        "id": "tkmvttm8zrJW"
      }
    },
    {
      "cell_type": "markdown",
      "source": [
        "Q-7:How can you handle multiple exceptions in Python?\n",
        "You can handle them by using the try except block and by also using multiple except."
      ],
      "metadata": {
        "id": "GyYg0a14zvvp"
      }
    },
    {
      "cell_type": "markdown",
      "source": [
        "Q-8:What is the purpose of the with statement when handling files in Python?\n",
        "It ensures files are properly closed after operations, even if an exception occurs:\n",
        "with open('file.txt') as f:\n",
        "    data = f.read()"
      ],
      "metadata": {
        "id": "2RaoOIg2z-EV"
      }
    },
    {
      "cell_type": "markdown",
      "source": [
        "Q-9:What is the difference between multithreading and multiprocessing?\n",
        "\n",
        "Multithreading: Multiple threads within a single process; shares memory.\n",
        "\n",
        "Multiprocessing: Multiple processes; each with its own memory space."
      ],
      "metadata": {
        "id": "VsfiRp4S0Hj5"
      }
    },
    {
      "cell_type": "markdown",
      "source": [
        "Q-10:What are the advantages of using logging in a program?\n",
        "\n",
        "Helps in debugging\n",
        "\n",
        "Maintains a record of events\n",
        "\n",
        "Offers various severity levels\n",
        "\n",
        "Better than using print() for real applications"
      ],
      "metadata": {
        "id": "To0kOWIq0LcI"
      }
    },
    {
      "cell_type": "markdown",
      "source": [
        "Q-11:What is memory management in Python?\n",
        "It’s the process of allocating and deallocating memory using built-in garbage collection and reference counting."
      ],
      "metadata": {
        "id": "soluDg-l0PVG"
      }
    },
    {
      "cell_type": "markdown",
      "source": [
        "Q-12:What are the basic steps involved in exception handling in Python?\n",
        "\n",
        "Wrap code in a try block\n",
        "\n",
        "Use except to catch exceptions\n",
        "\n",
        "Optionally use else and finally blocks"
      ],
      "metadata": {
        "id": "eY0osxj_0TWc"
      }
    },
    {
      "cell_type": "markdown",
      "source": [
        "Q-13: Why is memory management important in Python?\n",
        "It prevents memory leaks, optimizes performance, and ensures efficient use of resources.\n",
        "\n"
      ],
      "metadata": {
        "id": "x4RMd0zc0Xnc"
      }
    },
    {
      "cell_type": "markdown",
      "source": [
        "Q-14: What is the role of try and except in exception handling?\n",
        "\n",
        "try: Code that might raise an exception\n",
        "\n",
        "except: Handles the exception to prevent a crash"
      ],
      "metadata": {
        "id": "ZGYJktuJ0eBA"
      }
    },
    {
      "cell_type": "markdown",
      "source": [
        "Q-15:How does Python's garbage collection system work?\n",
        "Uses reference counting and a cyclic garbage collector to automatically reclaim memory of unused objects.\n",
        "\n",
        "\n",
        "\n"
      ],
      "metadata": {
        "id": "phLUOgsP0jCn"
      }
    },
    {
      "cell_type": "markdown",
      "source": [
        "Q-16: What is the purpose of the else block in exception handling?\n",
        "It runs if no exceptions were raised in the try block.\n"
      ],
      "metadata": {
        "id": "7rR7uZsu0rQr"
      }
    },
    {
      "cell_type": "markdown",
      "source": [
        "Q-17. What are the common logging levels in Python?\n",
        "\n",
        "DEBUG\n",
        "\n",
        "INFO\n",
        "\n",
        "WARNING\n",
        "\n",
        "ERROR\n",
        "\n",
        "CRITICAL"
      ],
      "metadata": {
        "id": "j3bnbnlX0yTI"
      }
    },
    {
      "cell_type": "markdown",
      "source": [
        "Q-18:What is the difference between os.fork() and multiprocessing in Python?\n",
        "\n",
        "os.fork() is Unix-specific and manually handles child processes.\n",
        "\n",
        "multiprocessing is cross-platform and provides a higher-level API."
      ],
      "metadata": {
        "id": "yIx7gQGc00D1"
      }
    },
    {
      "cell_type": "markdown",
      "source": [
        "Q-19:What is the importance of closing a file in Python?\n",
        "It frees system resources and ensures all data is properly written and saved."
      ],
      "metadata": {
        "id": "89Wrhb8904YJ"
      }
    },
    {
      "cell_type": "markdown",
      "source": [
        "Q-20:What is the difference between file.read() and file.readline() in Python?\n",
        "\n",
        "file.read() reads the entire content of a file as a single string.\n",
        "\n",
        "file.readline() reads one line at a time from the file."
      ],
      "metadata": {
        "id": "Ees9nxsc08DW"
      }
    },
    {
      "cell_type": "markdown",
      "source": [
        "Q-21:What is the logging module in Python used for?\n",
        "The logging module is used to record messages for tracking events during program execution, debugging, or monitoring applications."
      ],
      "metadata": {
        "id": "XXwYszbC1Hnp"
      }
    },
    {
      "cell_type": "markdown",
      "source": [
        "Q-22:What is the os module in Python used for in file handling?\n",
        "The os module helps interact with the operating system for tasks like:\n",
        "\n",
        "Checking file existence (os.path.exists)\n",
        "\n",
        "Deleting files (os.remove)\n",
        "\n",
        "Navigating directories (os.chdir, os.listdir)\n",
        "\n",
        "Creating/removing folders"
      ],
      "metadata": {
        "id": "YlpjLdzE1Lhs"
      }
    },
    {
      "cell_type": "markdown",
      "source": [
        "Q-23:What are the challenges associated with memory management in Python?\n",
        "\n",
        "Reference cycles: Objects referencing each other may not be freed.\n",
        "\n",
        "Large object retention: Caches or global variables may hold objects too long.\n",
        "\n",
        "Non-memory-leak bugs: Python’s GC may not free memory immediately.\n",
        "\n",
        "Thread safety: The Global Interpreter Lock (GIL) complicates memory handling in multithreaded programs.\n",
        "\n"
      ],
      "metadata": {
        "id": "xiMY7Cdf1PbJ"
      }
    },
    {
      "cell_type": "markdown",
      "source": [
        "Q-24:How do you raise an exception manually in Python?\n",
        "Use the raise keyword with an exception class:"
      ],
      "metadata": {
        "id": "IWfo7b2S1Tkl"
      }
    },
    {
      "cell_type": "markdown",
      "source": [
        "Q-25:Why is it important to use multithreading in certain applications?\n",
        "Multithreading is useful for:\n",
        "\n",
        "I/O-bound tasks like file operations, network calls, or user interfaces\n",
        "\n",
        "Improving responsiveness of applications (e.g., GUIs)\n",
        "\n",
        "Concurrent task execution without blocking the main thread"
      ],
      "metadata": {
        "id": "yijUXNDT1YUu"
      }
    },
    {
      "cell_type": "markdown",
      "source": [
        "Practical Questions"
      ],
      "metadata": {
        "id": "nUM_cet-lvhZ"
      }
    },
    {
      "cell_type": "markdown",
      "source": [
        "Q-1: How can you open a file for writing in Python and write a string to it"
      ],
      "metadata": {
        "id": "x54BAnTPlykh"
      }
    },
    {
      "cell_type": "code",
      "execution_count": null,
      "metadata": {
        "id": "l5e1GO5Hlq71"
      },
      "outputs": [],
      "source": [
        "file=open(\"file.txt\",\"w\")\n",
        "file.write(\"Hello world\")\n",
        "file.close()"
      ]
    },
    {
      "cell_type": "markdown",
      "source": [
        "Q-2:Write a Python program to read the contents of a file and print each lineF"
      ],
      "metadata": {
        "id": "1NCbnNxdmS8Q"
      }
    },
    {
      "cell_type": "code",
      "source": [
        "file=open(\"file.txt\",\"r\")\n",
        "print(file.read())\n",
        "file.close()"
      ],
      "metadata": {
        "colab": {
          "base_uri": "https://localhost:8080/"
        },
        "id": "U6fEuVfamXaN",
        "outputId": "67987adb-30c0-4709-e20e-06bfa90c1f61"
      },
      "execution_count": null,
      "outputs": [
        {
          "output_type": "stream",
          "name": "stdout",
          "text": [
            "Hello world\n"
          ]
        }
      ]
    },
    {
      "cell_type": "markdown",
      "source": [
        "Q-3: How would you handle a case where the file doesn't exist while trying to open it for reading"
      ],
      "metadata": {
        "id": "LNIrJomfmpNp"
      }
    },
    {
      "cell_type": "code",
      "source": [
        "file=open(\"example.txt\",\"r\")\n",
        "file.close()"
      ],
      "metadata": {
        "colab": {
          "base_uri": "https://localhost:8080/",
          "height": 158
        },
        "id": "e-jQhFJamuUd",
        "outputId": "14903ae0-087a-49f5-9a99-8c5c1a9ba790"
      },
      "execution_count": null,
      "outputs": [
        {
          "output_type": "error",
          "ename": "FileNotFoundError",
          "evalue": "[Errno 2] No such file or directory: 'example.txt'",
          "traceback": [
            "\u001b[0;31m---------------------------------------------------------------------------\u001b[0m",
            "\u001b[0;31mFileNotFoundError\u001b[0m                         Traceback (most recent call last)",
            "\u001b[0;32m<ipython-input-4-013dea364e7e>\u001b[0m in \u001b[0;36m<cell line: 0>\u001b[0;34m()\u001b[0m\n\u001b[0;32m----> 1\u001b[0;31m \u001b[0mfile\u001b[0m\u001b[0;34m=\u001b[0m\u001b[0mopen\u001b[0m\u001b[0;34m(\u001b[0m\u001b[0;34m\"example.txt\"\u001b[0m\u001b[0;34m,\u001b[0m\u001b[0;34m\"r\"\u001b[0m\u001b[0;34m)\u001b[0m\u001b[0;34m\u001b[0m\u001b[0;34m\u001b[0m\u001b[0m\n\u001b[0m\u001b[1;32m      2\u001b[0m \u001b[0mfile\u001b[0m\u001b[0;34m.\u001b[0m\u001b[0mclose\u001b[0m\u001b[0;34m(\u001b[0m\u001b[0;34m)\u001b[0m\u001b[0;34m\u001b[0m\u001b[0;34m\u001b[0m\u001b[0m\n",
            "\u001b[0;31mFileNotFoundError\u001b[0m: [Errno 2] No such file or directory: 'example.txt'"
          ]
        }
      ]
    },
    {
      "cell_type": "markdown",
      "source": [
        "it shows an error no such file example.txt is not exist in the directory"
      ],
      "metadata": {
        "id": "38nxNL5GnHgr"
      }
    },
    {
      "cell_type": "markdown",
      "source": [
        "Q-4:Write a Python script that reads from one file and writes its content to another fileF\n"
      ],
      "metadata": {
        "id": "eMNfB8_JnQUh"
      }
    },
    {
      "cell_type": "code",
      "source": [
        "file=open(\"file.txt\",\"r\")\n",
        "file1=open(\"file1.txt\",\"w\")\n",
        "file1.write(file.read())\n",
        "\n",
        "file.close()\n",
        "file1.close()\n"
      ],
      "metadata": {
        "id": "FOZC3TkJnYNU"
      },
      "execution_count": null,
      "outputs": []
    },
    {
      "cell_type": "markdown",
      "source": [
        "Q-5: How would you catch and handle division by zero error in Python"
      ],
      "metadata": {
        "id": "_pjo2Xw0nXu3"
      }
    },
    {
      "cell_type": "code",
      "source": [
        "try:\n",
        "  10/0\n",
        "except ZeroDivisionError as e:\n",
        "  print(\"there is a \",e,\"error\")\n"
      ],
      "metadata": {
        "colab": {
          "base_uri": "https://localhost:8080/"
        },
        "id": "72gY9TgvoMco",
        "outputId": "ded933a9-85da-4227-d313-8242f28d252c"
      },
      "execution_count": null,
      "outputs": [
        {
          "output_type": "stream",
          "name": "stdout",
          "text": [
            "there is a  division by zero error\n"
          ]
        }
      ]
    },
    {
      "cell_type": "markdown",
      "source": [
        "Q-6:Write a Python program that logs an error message to a log file when a division by zero exception occursF"
      ],
      "metadata": {
        "id": "SNRuFWIeotyT"
      }
    },
    {
      "cell_type": "code",
      "source": [
        "import logging\n",
        "logging.basicConfig(filename=\"Log.txt\",level=logging.ERROR)\n",
        "try:\n",
        "  10/0\n",
        "except ZeroDivisionError as e:\n",
        "  print(\"there is a \",e,\"error\")"
      ],
      "metadata": {
        "colab": {
          "base_uri": "https://localhost:8080/"
        },
        "id": "1peh2epeoyPM",
        "outputId": "6429d637-b579-46a6-89ae-f9c1feed370f"
      },
      "execution_count": null,
      "outputs": [
        {
          "output_type": "stream",
          "name": "stdout",
          "text": [
            "there is a  division by zero error\n"
          ]
        }
      ]
    },
    {
      "cell_type": "markdown",
      "source": [
        "Q-7:F How do you log information at different levels (INFO, ERROR, WARNING) in Python using the logging module"
      ],
      "metadata": {
        "id": "ASNcwHIGpaU0"
      }
    },
    {
      "cell_type": "code",
      "source": [
        "import logging\n",
        "logging.basicConfig(filename=\"Log.txt\",level=logging.INFO)\n",
        "logging.info(\"This is my normal information\")\n",
        "logging.warning(\"this is my warning\")\n",
        "logging.error(\"some error has happened\")\n",
        "logging.shutdown()\n"
      ],
      "metadata": {
        "colab": {
          "base_uri": "https://localhost:8080/"
        },
        "id": "dKoH8acHpe0k",
        "outputId": "f6942f9c-c73d-4d93-b824-189a416ac47f"
      },
      "execution_count": null,
      "outputs": [
        {
          "output_type": "stream",
          "name": "stderr",
          "text": [
            "WARNING:root:this is my warning\n",
            "ERROR:root:some error has happened\n"
          ]
        }
      ]
    },
    {
      "cell_type": "markdown",
      "source": [
        "Q-8:Write a program to handle a file opening error using exception handlingF"
      ],
      "metadata": {
        "id": "LdztETLaqhqD"
      }
    },
    {
      "cell_type": "code",
      "source": [
        "try:\n",
        "  file=open(\"example.txt\",\"r\")\n",
        "except FileNotFoundError as e:\n",
        "  print(e)\n"
      ],
      "metadata": {
        "colab": {
          "base_uri": "https://localhost:8080/"
        },
        "id": "4sovnoQoqlvA",
        "outputId": "51c70944-b3b3-4968-850e-6465b8751cf8"
      },
      "execution_count": null,
      "outputs": [
        {
          "output_type": "stream",
          "name": "stdout",
          "text": [
            "[Errno 2] No such file or directory: 'example.txt'\n"
          ]
        }
      ]
    },
    {
      "cell_type": "markdown",
      "source": [
        "Q-9:How can you read a file line by line and store its content in a list in Python"
      ],
      "metadata": {
        "id": "iYSbHKyArNC7"
      }
    },
    {
      "cell_type": "code",
      "source": [
        "file=open(\"file.txt\",\"w\")\n",
        "file.write(\"hello world\")\n",
        "file.write(\"my name is molisha agarwal\")\n",
        "file.write(\"my age is 21\")\n",
        "file.close()\n",
        "file=open(\"file.txt\",\"r\")\n",
        "print(file.readlines())\n",
        "file.close()"
      ],
      "metadata": {
        "colab": {
          "base_uri": "https://localhost:8080/"
        },
        "id": "3UUB7HOarRwe",
        "outputId": "b1febff8-1c5a-4028-c992-bf8f44ebd8d4"
      },
      "execution_count": null,
      "outputs": [
        {
          "output_type": "stream",
          "name": "stdout",
          "text": [
            "['hello worldmy name is molisha agarwalmy age is 21']\n"
          ]
        }
      ]
    },
    {
      "cell_type": "markdown",
      "source": [
        "Q-10:How can you append data to an existing file in Python"
      ],
      "metadata": {
        "id": "pTX1QzHnoG-a"
      }
    },
    {
      "cell_type": "code",
      "source": [
        "file=open(\"file.txt\",\"a\")\n",
        "file.write(\"i study in college\")\n",
        "file.close()"
      ],
      "metadata": {
        "id": "Bq2bolpUsJIK"
      },
      "execution_count": null,
      "outputs": []
    },
    {
      "cell_type": "markdown",
      "source": [
        "Q-11:Write a Python program that uses a try-except block to handle an error when attempting to access a\n",
        "dictionary key that doesn't existF"
      ],
      "metadata": {
        "id": "21vKxf1JsktZ"
      }
    },
    {
      "cell_type": "code",
      "source": [
        "try:\n",
        "  file={\"name\":\"molisha\",\"branch\":\"csd\"}\n",
        "  print(file[\"age\"])\n",
        "except KeyError as e:\n",
        "  print(\"access a dictinary key that does not exist\",e)\n"
      ],
      "metadata": {
        "id": "WaXVsjSfsosX",
        "colab": {
          "base_uri": "https://localhost:8080/"
        },
        "outputId": "1735f020-d323-4aec-c8de-9587009d9750"
      },
      "execution_count": null,
      "outputs": [
        {
          "output_type": "stream",
          "name": "stdout",
          "text": [
            "access a dictinary key that does not exist 'age'\n"
          ]
        }
      ]
    },
    {
      "cell_type": "markdown",
      "source": [
        "Q-12: Write a program that demonstrates using multiple except blocks to handle different types of exceptions"
      ],
      "metadata": {
        "id": "9TvD5keFzGO1"
      }
    },
    {
      "cell_type": "code",
      "source": [
        "try:\n",
        "  10/0\n",
        "except ZeroDivisionError as e:\n",
        "  print(\"the divison is not possible due to error\",e)\n",
        "except TypeError as e:\n",
        "  print(\"the divison is not possible\",e)"
      ],
      "metadata": {
        "colab": {
          "base_uri": "https://localhost:8080/"
        },
        "id": "Za_HH-pCzLLN",
        "outputId": "0b1d8a2e-9469-4f8b-b671-41dd940c9db1"
      },
      "execution_count": null,
      "outputs": [
        {
          "output_type": "stream",
          "name": "stdout",
          "text": [
            "the divison is not possible due to error division by zero\n"
          ]
        }
      ]
    },
    {
      "cell_type": "markdown",
      "source": [
        "Q-13:How would you check if a file exists before attempting to read it in Python"
      ],
      "metadata": {
        "id": "YlOMfsaNzuIs"
      }
    },
    {
      "cell_type": "code",
      "source": [
        "import os\n",
        "\n",
        "def check_file_exists(filename):\n",
        "  return os.path.exists(filename)\n",
        "filename = \"file1.txt\"\n",
        "if check_file_exists(filename):\n",
        "  with open(filename, 'r') as file:\n",
        "    contents = file.read()\n",
        "    print(contents)\n",
        "else:\n",
        "  print(f\"Error: File '{filename}' not found.\")\n"
      ],
      "metadata": {
        "colab": {
          "base_uri": "https://localhost:8080/"
        },
        "id": "bkuuE2ODzy4z",
        "outputId": "9a716933-873d-48cc-90ff-1d7c89258934"
      },
      "execution_count": null,
      "outputs": [
        {
          "output_type": "stream",
          "name": "stdout",
          "text": [
            "Error: File 'file1.txt' not found.\n"
          ]
        }
      ]
    },
    {
      "cell_type": "markdown",
      "source": [
        "Q14:Write a program that uses the logging module to log both informational and error messagesF"
      ],
      "metadata": {
        "id": "tFSuex7tsD_T"
      }
    },
    {
      "cell_type": "code",
      "source": [
        "import logging\n",
        "logging.basicConfig(filename=\"log.txt\",level=logging.INFO,format=\"%(asctime)s - %(levelname)s - %(message)s\")\n",
        "logging.info(\"program started\")\n",
        "try:\n",
        "  10/0\n",
        "except ZeroDivisionError:\n",
        "  logging.error(\"an error occured :divison by zero\")\n",
        "logging.shutdown()"
      ],
      "metadata": {
        "colab": {
          "base_uri": "https://localhost:8080/"
        },
        "id": "L3S4ewBy1Can",
        "outputId": "6a2f185b-606f-4924-da2a-90dd2d7387fe"
      },
      "execution_count": null,
      "outputs": [
        {
          "output_type": "stream",
          "name": "stderr",
          "text": [
            "ERROR:root:an error occured :divison by zero\n"
          ]
        }
      ]
    },
    {
      "cell_type": "markdown",
      "source": [
        "Q-15:F Write a Python program that prints the content of a file and handles the case when the file is emptyF"
      ],
      "metadata": {
        "id": "GqGxC3O42VpA"
      }
    },
    {
      "cell_type": "code",
      "source": [
        "def print_file_content(filename):\n",
        "  try:\n",
        "    with open(filename,\"r\") as file:\n",
        "       content=file.read()\n",
        "       if not content:\n",
        "          print(\"the file is empty\")\n",
        "       else:\n",
        "          print(content)\n",
        "  except FileNotFoundError:\n",
        "    print(f\"error file {filename} not found\")\n",
        "\n",
        "\n",
        "\n",
        "\n",
        "print_file_content(\"file.txt\")\n",
        "\n"
      ],
      "metadata": {
        "colab": {
          "base_uri": "https://localhost:8080/"
        },
        "id": "QnskBoiy2atf",
        "outputId": "f746b198-97d2-44d1-f5c1-afdf99b6b9a3"
      },
      "execution_count": null,
      "outputs": [
        {
          "output_type": "stream",
          "name": "stdout",
          "text": [
            "error file file.txt not found\n"
          ]
        }
      ]
    },
    {
      "cell_type": "markdown",
      "source": [
        "Q-16:Demonstrate how to use memory profiling to check the memory usage of a small program"
      ],
      "metadata": {
        "id": "7xh8knryCSK_"
      }
    },
    {
      "cell_type": "code",
      "source": [
        "!pip install memory_profiler\n",
        "import memory_profiler\n",
        "from memory_profiler import profile\n",
        "\n",
        "@profile\n",
        "def my_function():\n",
        "\n",
        "  my_list = []\n",
        "  for i in range(100):\n",
        "    my_list.append(i)\n",
        "  return my_list\n",
        "\n",
        "my_function()\n"
      ],
      "metadata": {
        "id": "HhY8e3XaCXVr",
        "colab": {
          "base_uri": "https://localhost:8080/"
        },
        "outputId": "2fbb720e-0782-48ba-aa3b-197060af5c85"
      },
      "execution_count": 4,
      "outputs": [
        {
          "output_type": "stream",
          "name": "stdout",
          "text": [
            "Requirement already satisfied: memory_profiler in /usr/local/lib/python3.11/dist-packages (0.61.0)\n",
            "Requirement already satisfied: psutil in /usr/local/lib/python3.11/dist-packages (from memory_profiler) (5.9.5)\n",
            "ERROR: Could not find file <ipython-input-4-0f3bb0ed545c>\n",
            "NOTE: %mprun can only be used on functions defined in physical files, and not in the IPython environment.\n"
          ]
        },
        {
          "output_type": "execute_result",
          "data": {
            "text/plain": [
              "[0,\n",
              " 1,\n",
              " 2,\n",
              " 3,\n",
              " 4,\n",
              " 5,\n",
              " 6,\n",
              " 7,\n",
              " 8,\n",
              " 9,\n",
              " 10,\n",
              " 11,\n",
              " 12,\n",
              " 13,\n",
              " 14,\n",
              " 15,\n",
              " 16,\n",
              " 17,\n",
              " 18,\n",
              " 19,\n",
              " 20,\n",
              " 21,\n",
              " 22,\n",
              " 23,\n",
              " 24,\n",
              " 25,\n",
              " 26,\n",
              " 27,\n",
              " 28,\n",
              " 29,\n",
              " 30,\n",
              " 31,\n",
              " 32,\n",
              " 33,\n",
              " 34,\n",
              " 35,\n",
              " 36,\n",
              " 37,\n",
              " 38,\n",
              " 39,\n",
              " 40,\n",
              " 41,\n",
              " 42,\n",
              " 43,\n",
              " 44,\n",
              " 45,\n",
              " 46,\n",
              " 47,\n",
              " 48,\n",
              " 49,\n",
              " 50,\n",
              " 51,\n",
              " 52,\n",
              " 53,\n",
              " 54,\n",
              " 55,\n",
              " 56,\n",
              " 57,\n",
              " 58,\n",
              " 59,\n",
              " 60,\n",
              " 61,\n",
              " 62,\n",
              " 63,\n",
              " 64,\n",
              " 65,\n",
              " 66,\n",
              " 67,\n",
              " 68,\n",
              " 69,\n",
              " 70,\n",
              " 71,\n",
              " 72,\n",
              " 73,\n",
              " 74,\n",
              " 75,\n",
              " 76,\n",
              " 77,\n",
              " 78,\n",
              " 79,\n",
              " 80,\n",
              " 81,\n",
              " 82,\n",
              " 83,\n",
              " 84,\n",
              " 85,\n",
              " 86,\n",
              " 87,\n",
              " 88,\n",
              " 89,\n",
              " 90,\n",
              " 91,\n",
              " 92,\n",
              " 93,\n",
              " 94,\n",
              " 95,\n",
              " 96,\n",
              " 97,\n",
              " 98,\n",
              " 99]"
            ]
          },
          "metadata": {},
          "execution_count": 4
        }
      ]
    },
    {
      "cell_type": "markdown",
      "source": [
        "Q-17:Write a Python program to create and write a list of numbers to a file, one number per line"
      ],
      "metadata": {
        "id": "jMVJVvLPCe8z"
      }
    },
    {
      "cell_type": "code",
      "source": [
        "\n",
        "\n",
        "def write_numbers_to_file(numbers, filename):\n",
        "    try:\n",
        "        with open(filename, 'w') as file:\n",
        "            for number in numbers:\n",
        "                file.write(str(number) + '\\n')\n",
        "    except Exception as e:\n",
        "        print(f\"An error occurred: {e}\")\n",
        "\n",
        "\n",
        "numbers = [1, 2, 3, 4, 5,10]\n",
        "filename = \"numbers.txt\"\n",
        "write_numbers_to_file(numbers, filename)\n"
      ],
      "metadata": {
        "id": "AXDF3omXCkOi"
      },
      "execution_count": 6,
      "outputs": []
    },
    {
      "cell_type": "markdown",
      "source": [
        "Q-18: How would you implement a basic logging setup that logs to a file with rotation after 1MB"
      ],
      "metadata": {
        "id": "zcDo__Kk2jF6"
      }
    },
    {
      "cell_type": "code",
      "source": [
        "\n",
        "\n",
        "import logging\n",
        "from logging.handlers import RotatingFileHandler\n",
        "\n",
        "def setup_rotating_log(log_file, max_bytes=1024*1024):\n",
        "    \"\"\"Sets up a rotating log handler.\"\"\"\n",
        "    logger = logging.getLogger(__name__)\n",
        "    logger.setLevel(logging.INFO)  # Set the desired logging level\n",
        "\n",
        "    handler = RotatingFileHandler(log_file, maxBytes=max_bytes, backupCount=5)\n",
        "    formatter = logging.Formatter('%(asctime)s - %(levelname)s - %(message)s')\n",
        "    handler.setFormatter(formatter)\n",
        "\n",
        "    logger.addHandler(handler)\n",
        "    return logger\n",
        "logger = setup_rotating_log('my_app.log')\n",
        "\n",
        "logger.info(\"This is a test log message.\")\n",
        "logger.error(\"This is an error message\")\n"
      ],
      "metadata": {
        "colab": {
          "base_uri": "https://localhost:8080/"
        },
        "id": "fLy_iLfW2iT7",
        "outputId": "2163ad53-2290-4343-9cb3-b21460ed343e"
      },
      "execution_count": 7,
      "outputs": [
        {
          "output_type": "stream",
          "name": "stderr",
          "text": [
            "INFO:__main__:This is a test log message.\n",
            "ERROR:__main__:This is an error message\n"
          ]
        }
      ]
    },
    {
      "cell_type": "markdown",
      "source": [
        "Q-19: Write a program that handles both IndexError and KeyError using a try-except block"
      ],
      "metadata": {
        "id": "VX69buIa24LE"
      }
    },
    {
      "cell_type": "code",
      "source": [
        "def handle_exceptions():\n",
        "    my_list = [1, 2, 3]\n",
        "    my_dict = {'a': 1, 'b': 2}\n",
        "\n",
        "    try:\n",
        "        print(my_list[5])  # This will raise an IndexError\n",
        "    except IndexError as e:\n",
        "        print(f\"An IndexError occurred: {e}\")\n",
        "\n",
        "    try:\n",
        "        print(my_dict['c'])  # This will raise a KeyError\n",
        "    except KeyError as e:\n",
        "        print(f\"A KeyError occurred: {e}\")\n",
        "\n",
        "handle_exceptions()\n"
      ],
      "metadata": {
        "id": "nQM-e0jw29DA"
      },
      "execution_count": null,
      "outputs": []
    },
    {
      "cell_type": "markdown",
      "source": [
        "Q-21: Write a Python program that reads a file and prints the number of occurrences of a specific wordF"
      ],
      "metadata": {
        "id": "pe_Z8uDr3DV4"
      }
    },
    {
      "cell_type": "code",
      "source": [
        "def count_word_occurrences(filename, target_word):\n",
        "\n",
        "    try:\n",
        "        with open(filename, 'r') as file:\n",
        "            content = file.read()\n",
        "            words = content.lower().split()  # Convert to lowercase for case-insensitive counting\n",
        "            return words.count(target_word.lower())\n",
        "    except FileNotFoundError:\n",
        "        print(f\"Error: File '{filename}' not found.\")\n",
        "        return -1\n",
        "\n",
        "\n",
        "filename = \"numbers.txt\"  # Replace with the actual file name\n",
        "target_word = \"F\"\n",
        "occurrences = count_word_occurrences(filename, target_word)\n",
        "\n",
        "if occurrences != -1:\n",
        "    print(f\"The word '{target_word}' appears {occurrences} times in the file.\")\n"
      ],
      "metadata": {
        "colab": {
          "base_uri": "https://localhost:8080/"
        },
        "id": "CTrU9MnS3KrQ",
        "outputId": "89764a34-b478-4375-f7a1-22b28d856931"
      },
      "execution_count": 12,
      "outputs": [
        {
          "output_type": "stream",
          "name": "stdout",
          "text": [
            "The word 'F' appears 0 times in the file.\n"
          ]
        }
      ]
    },
    {
      "cell_type": "markdown",
      "source": [
        "Q-22:How can you check if a file is empty before attempting to read its contents"
      ],
      "metadata": {
        "id": "4VzDRFm64bEf"
      }
    },
    {
      "cell_type": "code",
      "source": [
        "\n",
        "\n",
        "import os\n",
        "\n",
        "def check_file_empty(filename):\n",
        "   if not os.path.exists(filename):\n",
        "        return \"Error: File not found.\"\n",
        "\n",
        "   return os.stat(filename).st_size == 0\n",
        "\n",
        "# Example usage\n",
        "filename = \"my_file.txt\"\n",
        "if check_file_empty(filename) is True:\n",
        "    print(f\"The file '{filename}' is empty.\")\n",
        "elif check_file_empty(filename) == \"Error: File not found.\":\n",
        "    print(check_file_empty(filename))\n",
        "else:\n",
        "    print(f\"The file '{filename}' is not empty.\")\n"
      ],
      "metadata": {
        "colab": {
          "base_uri": "https://localhost:8080/"
        },
        "id": "0D_WEiYt4hYx",
        "outputId": "3f533455-7c3e-451f-a814-87fdf7ebee5a"
      },
      "execution_count": 16,
      "outputs": [
        {
          "output_type": "stream",
          "name": "stdout",
          "text": [
            "Error: File not found.\n"
          ]
        }
      ]
    }
  ]
}